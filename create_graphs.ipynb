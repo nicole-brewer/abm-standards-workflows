{
 "cells": [
  {
   "cell_type": "markdown",
   "metadata": {},
   "source": [
    "# Creating the Graphs"
   ]
  },
  {
   "cell_type": "code",
   "execution_count": null,
   "metadata": {},
   "outputs": [],
   "source": [
    "from preprocessing.objects import create_objects\n",
    "from preprocessing.author import Author\n",
    "import networkit as nk\n",
    "from networkit.vizbridges import Dimension"
   ]
  },
  {
   "cell_type": "markdown",
   "metadata": {},
   "source": [
    "NetworKit is organized in **modules**.\n",
    "\n",
    "`nk.<module_name>.<feature_name>`"
   ]
  },
  {
   "cell_type": "markdown",
   "metadata": {},
   "source": [
    "## 1. Importing the Data"
   ]
  },
  {
   "cell_type": "code",
   "execution_count": null,
   "metadata": {},
   "outputs": [],
   "source": [
    "author_list, publication_list = create_objects('Catalogdatabase-till2018b.xlsx', n=20)"
   ]
  },
  {
   "cell_type": "markdown",
   "metadata": {},
   "source": [
    "## 2. Creating the Graph"
   ]
  },
  {
   "cell_type": "code",
   "execution_count": null,
   "metadata": {},
   "outputs": [],
   "source": [
    "G = nk.Graph(weighted=True)\n",
    "print(G.numberOfNodes(), G.numberOfEdges())\n",
    "print(G.isWeighted(), G.isDirected())"
   ]
  },
  {
   "cell_type": "code",
   "execution_count": null,
   "metadata": {},
   "outputs": [],
   "source": [
    "%time\n",
    "author_list[0].id = G.addNode()\n",
    "for index_a in range(len(author_list)):\n",
    "    for index_b in range(index_a + 1, len(author_list)):\n",
    "        author_a = author_list[index_a]\n",
    "        author_b = author_list[index_b]\n",
    "        author_b.id = G.addNode()\n",
    "\n",
    "        common_publications = list(set(author_a.publications).intersection(author_b.publications))\n",
    "        if common_publications:\n",
    "            # Add the weighted edge to the graph\n",
    "            G.addEdge(author_a.id, author_b.id, w=len(common_publications))"
   ]
  },
  {
   "cell_type": "code",
   "execution_count": null,
   "metadata": {},
   "outputs": [],
   "source": [
    "# not even a little performant\n",
    "#nk.vizbridges.widgetFromGraph(G, Dimension.Two)"
   ]
  },
  {
   "cell_type": "markdown",
   "metadata": {},
   "source": [
    "# 2. Visualizing a graph with Gephi"
   ]
  },
  {
   "cell_type": "code",
   "execution_count": null,
   "metadata": {},
   "outputs": [],
   "source": [
    "# Crete a streaming client for Gephi\n",
    "client = nk.gephi.streaming.GephiStreamingClient(\"http://localhost:8080/workspacege1\")\n",
    "\n",
    "# Export the graph\n",
    "client.exportGraph(G)"
   ]
  },
  {
   "cell_type": "markdown",
   "metadata": {},
   "source": [
    "# 3 Computation of Central Vertices"
   ]
  },
  {
   "cell_type": "markdown",
   "metadata": {},
   "source": [
    "## 3.1 Harmonic Closeness Centrality\n",
    "\n",
    "Let $G = (V, E)$ be our input graph. The **harmonic closeness** of a vertex $v \\in V$ is defined as:\n",
    "\n",
    "$$\n",
    "h(v) = \\sum_{w \\in V\\setminus\\{v\\}}\\frac{n - 1}{d(v, w)}\n",
    "$$"
   ]
  },
  {
   "cell_type": "markdown",
   "metadata": {},
   "source": [
    "- Measures how much a vertex $v$ is \"close\" to the other vertices\n",
    "- Time complexity (per vertex): $\\mathcal{O}(n + m)$ for unweighted"
   ]
  },
  {
   "cell_type": "markdown",
   "metadata": {},
   "source": [
    "### Compute the harmonic closeness of all the vertices in $G$<br/>Visualize the distribution of the scores"
   ]
  },
  {
   "cell_type": "code",
   "execution_count": null,
   "metadata": {},
   "outputs": [],
   "source": [
    "# General NetworKit algorithm pipeline\n",
    "\n",
    "# 1. Create an intance of the algorithm\n",
    "hc = nk.centrality.HarmonicCloseness(G, normalized=False)\n",
    "\n",
    "# 2. Run the algorithm\n",
    "hc.run()\n",
    "\n",
    "# 3. Extract the results\n",
    "harmonic = hc.scores()\n",
    "\n",
    "# 4. Visualize the data\n",
    "_=plt.hist(harmonic)"
   ]
  },
  {
   "cell_type": "code",
   "execution_count": null,
   "metadata": {},
   "outputs": [],
   "source": [
    "# Export harmonic centrality values to Gephi\n",
    "client.exportNodeValues(G, harmonic, 'harmonic_c')"
   ]
  },
  {
   "cell_type": "markdown",
   "metadata": {},
   "source": [
    "## Vertex ranking\n",
    "\n",
    "Often we are interested in the ranking of the top-$k$ most central vertices."
   ]
  },
  {
   "cell_type": "code",
   "execution_count": null,
   "metadata": {},
   "outputs": [],
   "source": [
    "# Set a value for k\n",
    "k = 5\n",
    "\n",
    "# Get the top-5 ranking\n",
    "top_k = hc.ranking()[:k]\n",
    "\n",
    "# Print the top-k ranking\n",
    "for i, (vertex, score) in zip(range(k), top_k):\n",
    "    print(\"Top-{:d} vertex: {} -- score: {:.2f}\".format(i + 1, vertex, score))"
   ]
  },
  {
   "cell_type": "code",
   "execution_count": null,
   "metadata": {},
   "outputs": [],
   "source": [
    "# Label vertices:\n",
    "# True => is in top-5\n",
    "# False => is not in top-5\n",
    "\n",
    "in_top_k = [False for _ in G.iterNodes()]\n",
    "\n",
    "for top_vertex, _ in top_k:\n",
    "    in_top_k[top_vertex] = True\n",
    "\n",
    "# Export labels to Gephi\n",
    "client.exportNodeValues(G, in_top_k, \"in_top_k\")"
   ]
  },
  {
   "cell_type": "markdown",
   "metadata": {},
   "source": [
    "### Further material not covered here: efficient top-$k$ vertex ranking"
   ]
  },
  {
   "cell_type": "markdown",
   "metadata": {},
   "source": [
    "# 4. Graph Generators\n",
    "\n",
    "The **generators** module provides a wide range of models to generate graphs.\n",
    "\n",
    "` G = nk.generators.<generator_constructor>.generate()`"
   ]
  },
  {
   "cell_type": "markdown",
   "metadata": {},
   "source": [
    "### 4.1 Random Hyperbolic Generator\n",
    "\n",
    "Generates **complex networks** with a power-law degree distribution. Parameters:\n",
    "\n",
    "`n` number of vertices in the graph\n",
    "\n",
    "`avg_deg` average vertex degree\n",
    "\n",
    "`gamma` exponent of the power-law degree distribution"
   ]
  },
  {
   "cell_type": "code",
   "execution_count": null,
   "metadata": {
    "jupyter": {
     "source_hidden": true
    }
   },
   "outputs": [],
   "source": [
    "# Parameters:\n",
    "n, avg_deg, exp = 100000, 10, 3\n",
    "\n",
    "# Gererate the graph\n",
    "G_cplx = nk.generators.HyperbolicGenerator(n, avg_deg, exp).generate()\n",
    "\n",
    "# Degree of every vertex\n",
    "degrees = [G_cplx.degree(u) for u in G_cplx.iterNodes()]\n",
    "\n",
    "# Sort by degree (descending order)\n",
    "deg_count = np.array(sorted(Counter(degrees).items(), key=lambda x: x[0]))\n",
    "\n",
    "# Plot degree distribution (log-log plot)\n",
    "fig, ax = plt.subplots()\n",
    "ax.set_xscale('log', base=2)\n",
    "ax.set_yscale('log', base=2)\n",
    "ax.loglog(deg_count[1:, 0], deg_count[1:, 1], label='Degree distribution')\n",
    "_=ax.legend()"
   ]
  },
  {
   "cell_type": "markdown",
   "metadata": {},
   "source": [
    "### 4.2 Clustered Random Graph Generator\n",
    "Generates random graphs **with clusters**.\n",
    "\n",
    "`n`: number of vertices in the graph\n",
    "\n",
    "`num_clusters`: number of clusters/communities in the graph\n",
    "\n",
    "`p_in`: intra-cluster edge probability\n",
    "\n",
    "`p_out`: inter-cluster edge probability"
   ]
  },
  {
   "cell_type": "code",
   "execution_count": null,
   "metadata": {},
   "outputs": [],
   "source": [
    "# Parameters\n",
    "n, num_clusters, p_in, p_out = 200, 5, 0.3, 0.005\n",
    "\n",
    "# Generate a clustered random graph\n",
    "G_cluster = nk.generators.ClusteredRandomGraphGenerator(200, 5, 0.3, 0.005).generate()\n",
    "\n",
    "# Export the graph\n",
    "client.exportGraph(G_cluster)"
   ]
  },
  {
   "cell_type": "markdown",
   "metadata": {},
   "source": [
    "## 5. Community Detection\n",
    "\n",
    "### Objective\n",
    "Identify the community structure of a graph.\n",
    "\n",
    "### Methodology: Modularity Optimization\n",
    "Maximize the modularity:\n",
    "\n",
    "$$\n",
    "Q = \\frac{1}{2M}\\sum_{i \\in V}\\sum_{j \\in V}\\left( w(i, j) - \\frac{\\deg(i)\\deg(j)}{2M} \\right)\n",
    "\\delta\\left(c_i, c_j\\right)\n",
    "$$\n",
    "\n",
    "### Popular algorithm: Louvain Method"
   ]
  },
  {
   "cell_type": "code",
   "execution_count": null,
   "metadata": {},
   "outputs": [],
   "source": [
    "# 1. Create an instance of the Parallel Louvain Method\n",
    "plm = nk.community.PLM(G_cluster)\n",
    "\n",
    "# 2. Run the algorithm\n",
    "plm.run()\n",
    "\n",
    "# 3. Retrieve the resulting communities\n",
    "communities = plm.getPartition().getVector()\n",
    "\n",
    "# 4. Export the partitioning of the communities to Gephi\n",
    "client.exportNodeValues(G_cluster, communities, \"communities\")"
   ]
  }
 ],
 "metadata": {
  "kernelspec": {
   "display_name": "Python 3 (ipykernel)",
   "language": "python",
   "name": "python3"
  },
  "language_info": {
   "codemirror_mode": {
    "name": "ipython",
    "version": 3
   },
   "file_extension": ".py",
   "mimetype": "text/x-python",
   "name": "python",
   "nbconvert_exporter": "python",
   "pygments_lexer": "ipython3",
   "version": "3.8.17"
  }
 },
 "nbformat": 4,
 "nbformat_minor": 4
}
